{
 "cells": [
  {
   "cell_type": "markdown",
   "metadata": {},
   "source": [
    "## Importing Libraries"
   ]
  },
  {
   "cell_type": "code",
   "execution_count": 13,
   "metadata": {
    "collapsed": true
   },
   "outputs": [],
   "source": [
    "from __future__ import unicode_literals, print_function, division\n",
    "from io import open\n",
    "import unicodedata\n",
    "import string\n",
    "import re\n",
    "import random\n",
    "import numpy as np\n",
    "import _pickle as pickle\n",
    "import gc\n",
    "import torch\n",
    "import torch.nn as nn\n",
    "from torch.autograd import Variable\n",
    "from torch import optim\n",
    "import torch.nn.functional as torch_func"
   ]
  },
  {
   "cell_type": "markdown",
   "metadata": {},
   "source": [
    "## Importing articles and vector dictionary"
   ]
  },
  {
   "cell_type": "code",
   "execution_count": 3,
   "metadata": {
    "collapsed": true
   },
   "outputs": [],
   "source": [
    "with open('final_dump_700k.p', 'rb') as fp:\n",
    "    articles= pickle.load(fp)\n",
    "\n",
    "with open('google_dict_700k.p', 'rb') as fp:\n",
    "    embed= pickle.load(fp)\n"
   ]
  },
  {
   "cell_type": "code",
   "execution_count": 6,
   "metadata": {},
   "outputs": [],
   "source": [
    "wordvec=embed[0]\n",
    "idx2word=embed[1]\n",
    "word2idx=embed[2]"
   ]
  },
  {
   "cell_type": "markdown",
   "metadata": {},
   "source": [
    "## Creating Pairs"
   ]
  },
  {
   "cell_type": "code",
   "execution_count": 7,
   "metadata": {
    "collapsed": true
   },
   "outputs": [],
   "source": [
    "pairs=[]\n",
    "for i in range(len(articles['desc'])):\n",
    "    pairs.append((articles['desc'][i],articles['head'][i]))"
   ]
  },
  {
   "cell_type": "markdown",
   "metadata": {},
   "source": [
    "## Defining Encoder Parameters and Foward Pass"
   ]
  },
  {
   "cell_type": "code",
   "execution_count": 8,
   "metadata": {
    "collapsed": true
   },
   "outputs": [],
   "source": [
    "class encoder(nn.Module):\n",
    "    def __init__(self, input_size, hidden_size, LSTM_layers=4):\n",
    "        super(encoder, self).__init__()\n",
    "        self.LSTM_layers = LSTM_layers\n",
    "        self.hidden_size = hidden_size\n",
    "        self.embedding= nn.Embedding(input_size, hidden_size)\n",
    "        # pretrained_weight is a numpy matrix of shape (num_embeddings, embedding_dim)\n",
    "        self.embedding.weight.data.copy_(torch.from_numpy(wordvec))\n",
    "        self.embedding.weight.requires_grad = False\n",
    "        self.gru = nn.GRU(hidden_size, hidden_size)\n",
    "\n",
    "    def forward(self, input_word, hidden):\n",
    "        output= self.embedding(input_word).view(1,1,-1)\n",
    "        for i in range(self.LSTM_layers):\n",
    "            output, hidden = self.gru(output, hidden)\n",
    "        return output, hidden\n",
    "\n",
    "    def initHidden(self):\n",
    "        result = Variable(torch.zeros(1, 1, self.hidden_size)).cuda()"
   ]
  },
  {
   "cell_type": "markdown",
   "metadata": {},
   "source": [
    "## Defining Decoder Parameters and Foward Pass"
   ]
  },
  {
   "cell_type": "code",
   "execution_count": 11,
   "metadata": {
    "collapsed": true
   },
   "outputs": [],
   "source": [
    "class decoder(nn.Module):\n",
    "    def __init__(self, hidden_size, output_size, LSTM_layers=4):\n",
    "        super(decoder, self).__init__()\n",
    "        self.hidden_size = hidden_size\n",
    "        self.output_size = output_size\n",
    "        self.LSTM_layers = LSTM_layers\n",
    "        self.embedding= nn.Embedding(self.output_size, self.hidden_size)\n",
    "        # pretrained_weight is a numpy matrix of shape (num_embeddings, embedding_dim)\n",
    "        self.embedding.weight.data.copy_(torch.from_numpy(wordvec))\n",
    "        self.embedding.weight.requires_grad = False\n",
    "        # max length of input or output=50\n",
    "        self.attn = nn.Linear(self.hidden_size*2, 50)\n",
    "        self.attn_combine = nn.Linear(self.hidden_size*2, self.hidden_size)\n",
    "        self.dropout = nn.Dropout(0.1)\n",
    "        self.gru = nn.GRU(self.hidden_size, self.hidden_size)\n",
    "        self.out = nn.Linear(self.hidden_size, self.output_size)\n",
    "\n",
    "    def forward(self, input, hidden, encoder_output, encoder_outputs):\n",
    "        embedded = self.embedding(input).view(1,1,-1)\n",
    "        embedded = self.dropout(embedded)\n",
    "        attn_weights = func_torch.softmax(self.attn(torch.cat((embedded[0], hidden[0]), 1)))\n",
    "        attn_applied = torch.bmm(attn_weights.unsqueeze(0),encoder_outputs.unsqueeze(0))\n",
    "        output = torch.cat((embedded[0], attn_applied[0]), 1)\n",
    "        output = self.attn_combine(output).unsqueeze(0)\n",
    "\n",
    "        for i in range(self.LSTM_layers):\n",
    "            output = func_torch.relu(output)\n",
    "            output, hidden = self.gru(output, hidden)\n",
    "\n",
    "        output = torch_func.log_softmax(self.out(output[0]))\n",
    "        return output, hidden, attn_weights\n",
    "\n",
    "    def initHidden(self):\n",
    "        result = Variable(torch.zeros(1, 1, self.hidden_size)).cuda()"
   ]
  },
  {
   "cell_type": "markdown",
   "metadata": {},
   "source": [
    "## Helper functions to create sentence vecs from word vecs"
   ]
  },
  {
   "cell_type": "code",
   "execution_count": 47,
   "metadata": {
    "collapsed": true
   },
   "outputs": [],
   "source": [
    "EOS=1\n",
    "def sentence_vecs(sentence):\n",
    "    sen=[]\n",
    "    for word in sentence:\n",
    "        if word in word2idx:\n",
    "            sen.append(word2idx[word])\n",
    "        else:\n",
    "            sen.append(word2idx[word.lower()])\n",
    "    return sen        \n",
    "\n",
    "\n",
    "def inputoutput_pair(pair):\n",
    "    input_indexes = sentence_vecs(pair[0])\n",
    "    input_indexes.append(EOS_token)\n",
    "    input = Variable(torch.LongTensor(input_indexes).view(-1, 1)).cuda()\n",
    "    output_indexes = sentence_vecs(pair[1])\n",
    "    output_indexes.append(EOS_token)\n",
    "    output = Variable(torch.LongTensor(output_indexes).view(-1, 1)).cuda() \n",
    "    return input,output"
   ]
  },
  {
   "cell_type": "markdown",
   "metadata": {},
   "source": [
    "## Defining One train step"
   ]
  },
  {
   "cell_type": "code",
   "execution_count": 48,
   "metadata": {
    "collapsed": true
   },
   "outputs": [],
   "source": [
    "def train(input_variable, target_variable, encoder, decoder, encoder_optimizer, decoder_optimizer, criterion, max_length=50):\n",
    "    encoder_hidden = encoder.initHidden()\n",
    "   \n",
    "    encoder_optimizer.zero_grad()\n",
    "    decoder_optimizer.zero_grad()\n",
    "    \n",
    "    input_length = input_variable.size()[0]\n",
    "    target_length = target_variable.size()[0]\n",
    "\n",
    "  \n",
    "\n",
    "    encoder_outputs = Variable(torch.zeros(max_length, encoder.hidden_size))\n",
    "    encoder_outputs = encoder_outputs.cuda() \n",
    "\n",
    "    loss = 0\n",
    "\n",
    "    for ei in range(input_length):\n",
    "        encoder_output, encoder_hidden = encoder(input_variable[ei], encoder_hidden)\n",
    "        encoder_outputs[ei] = encoder_output[0][0]\n",
    "\n",
    "    decoder_input = Variable(torch.LongTensor([[SOS_token]]))\n",
    "    decoder_input = decoder_input.cuda() if use_cuda else decoder_input\n",
    "\n",
    "    decoder_hidden = encoder_hidden\n",
    "\n",
    "    use_teacher_forcing = True if random.random() < teacher_forcing_ratio else False\n",
    "\n",
    "    if use_teacher_forcing:\n",
    "        # Teacher forcing: Feed the target as the next input\n",
    "        for di in range(target_length):\n",
    "            decoder_output, decoder_hidden, decoder_attention = decoder(decoder_input, decoder_hidden, encoder_output, encoder_outputs)\n",
    "            loss += criterion(decoder_output, target_variable[di])\n",
    "            decoder_input = target_variable[di]  # Teacher forcing\n",
    "\n",
    "    else:\n",
    "        # Without teacher forcing: use its own predictions as the next input\n",
    "        for di in range(target_length):\n",
    "            decoder_output, decoder_hidden, decoder_attention = decoder(decoder_input, decoder_hidden, encoder_output, encoder_outputs)\n",
    "            topv, topi = decoder_output.data.topk(1)\n",
    "            ni = topi[0][0]\n",
    "            decoder_input = Variable(torch.LongTensor([[ni]]))\n",
    "            decoder_input = decoder_input.cuda() if use_cuda else decoder_input\n",
    "\n",
    "            loss += criterion(decoder_output, target_variable[di])\n",
    "            if ni == EOS_token:\n",
    "                break\n",
    "\n",
    "\n",
    "    loss.backward(retain_graph=False)\n",
    "    encoder_optimizer.step()\n",
    "    decoder_optimizer.step()\n",
    "\n",
    "\n",
    "    return loss.data[0]/target_length\n"
   ]
  },
  {
   "cell_type": "markdown",
   "metadata": {},
   "source": [
    "## Optimization"
   ]
  },
  {
   "cell_type": "code",
   "execution_count": 49,
   "metadata": {
    "collapsed": true
   },
   "outputs": [],
   "source": [
    "\n",
    "def trainIters(encoder, decoder, n_iters, print_every=1000, plot_every=100, learning_rate=0.01):\n",
    "    start = time.time()\n",
    "    plot_losses = []\n",
    "    print_loss_total = 0  # Reset every print_every\n",
    "    plot_loss_total = 0  # Reset every plot_every\n",
    "    \n",
    "    \n",
    "    encoder_parameters= filter(lambda p: p.requires_grad, encoder.parameters())\n",
    "    decoder_parameters= filter(lambda p: p.requires_grad, decoder.parameters())\n",
    "    encoder_optimizer = optim.SGD(encoder_parameters, lr=learning_rate)\n",
    "    decoder_optimizer = optim.SGD(decoder_parameters, lr=learning_rate)\n",
    "    training_pairs = [variablesFromPair(random.choice(pairs))\n",
    "                       for i in range(n_iters)]\n",
    "    criterion = nn.NLLLoss()\n",
    "\n",
    "    many=0\n",
    "    \n",
    "    \n",
    "    for iter in range(1, n_iters + 1):\n",
    "        print(iter)\n",
    "        training_pair = training_pairs[iter - 1]\n",
    "        input_variable = training_pair[0]\n",
    "        target_variable = training_pair[1]\n",
    "\n",
    "        loss = train(input_variable, target_variable, encoder,\n",
    "                     decoder, encoder_optimizer, decoder_optimizer, criterion)\n",
    "\n",
    "        \n",
    "        print_loss_total += loss\n",
    "        plot_loss_total += loss\n",
    "\n",
    "        if iter % print_every == 0:\n",
    "            print_loss_avg = print_loss_total / print_every\n",
    "            print_loss_total = 0\n",
    "            print('%s (%d %d%%) %.4f' % (timeSince(start, iter / n_iters),\n",
    "                                         iter, iter / n_iters * 100, print_loss_avg))\n",
    "            torch.save(encoder, 'modelencode_adam.pkl')\n",
    "            torch.save(encoder.state_dict(), 'modelparam_encode_adam.pkl')\n",
    "            torch.save(decoder, 'modeldecode_adam.pkl')\n",
    "            torch.save(decoder.state_dict(), 'modelparam_decode_adam.pkl')\n",
    "            boo=evaluateRandomly(encoder1, attn_decoder1)\n",
    "            filename='output_adam_present_out_'+str(iter)+'.txt'\n",
    "            thefile = open(filename, 'w',encoding=\"utf-8\")\n",
    "            for item in boo:\n",
    "                thefile.write(\"%s\\n\" %item)\n",
    "            thefile.close()"
   ]
  },
  {
   "cell_type": "code",
   "execution_count": 50,
   "metadata": {
    "collapsed": true
   },
   "outputs": [],
   "source": [
    "\n",
    "def evaluate(encoder, decoder, sentence, max_length=50):\n",
    "    input_variable = variableFromSentence(sentence)\n",
    "    input_length = input_variable.size()[0]\n",
    "    encoder_hidden = encoder.initHidden()\n",
    "\n",
    "    encoder_outputs = Variable(torch.zeros(max_length, encoder.hidden_size))\n",
    "    encoder_outputs = encoder_outputs.cuda() if use_cuda else encoder_outputs\n",
    "\n",
    "    for ei in range(input_length):\n",
    "        encoder_output, encoder_hidden = encoder(input_variable[ei],\n",
    "                                                 encoder_hidden)\n",
    "        encoder_outputs[ei] = encoder_outputs[ei] + encoder_output[0][0]\n",
    "\n",
    "    decoder_input = Variable(torch.LongTensor([[SOS_token]]))  # SOS\n",
    "    decoder_input = decoder_input.cuda() if use_cuda else decoder_input\n",
    "\n",
    "    decoder_hidden = encoder_hidden\n",
    "\n",
    "    decoded_words = []\n",
    "    decoder_attentions = torch.zeros(max_length, max_length)\n",
    "\n",
    "    for di in range(max_length):\n",
    "        decoder_output, decoder_hidden, decoder_attention = decoder(\n",
    "            decoder_input, decoder_hidden, encoder_output, encoder_outputs)\n",
    "        decoder_attentions[di] = decoder_attention.data\n",
    "        topv, topi = decoder_output.data.topk(1)\n",
    "        ni = topi[0][0]\n",
    "##        if ni>1000000 or ni<0:\n",
    "##            ni=2\n",
    "        if ni == EOS_token:\n",
    "            decoded_words.append('<EOS>')\n",
    "            break\n",
    "        else:\n",
    "            decoded_words.append(idx2word[ni])\n",
    "\n",
    "        decoder_input = Variable(torch.LongTensor([[ni]]))\n",
    "        decoder_input = decoder_input.cuda() if use_cuda else decoder_input\n",
    "\n",
    "    return decoded_words, decoder_attentions[:di + 1]"
   ]
  },
  {
   "cell_type": "code",
   "execution_count": null,
   "metadata": {
    "collapsed": true
   },
   "outputs": [],
   "source": [
    "\n",
    "def evaluateRandomly(encoder, decoder, n=10):\n",
    "    lst=[]\n",
    "    string=''\n",
    "    for i in range(n):\n",
    "        pair = random.choice(pairs)\n",
    "        output_words, attentions = evaluate(encoder, decoder, pair[0])\n",
    "        output_sentence = ' '.join(output_words)\n",
    "        string='>'+str(pair[0])+'/n'+'='+str(pair[1])+'/n'+'<'+str(output_sentence)\n",
    "        #print('>', pair[0])\n",
    "        #print('=', pair[1])\n",
    "        #output_words, attentions = evaluate(encoder, decoder, pair[0])\n",
    "        #output_sentence = ' '.join(output_words)\n",
    "        #print('<', output_sentence)\n",
    "        #print('')\n",
    "        lst.append(string)\n",
    "    return lst\n",
    "\n",
    "   \n",
    "\n",
    "\n",
    "# In[25]:\n",
    "\n",
    "\n",
    "hidden_size = 300\n",
    "encoder1 = EncoderRNN(len(word2idx), hidden_size)\n",
    "attn_decoder1 = AttnDecoderRNN(hidden_size, len(word2idx),\n",
    "                               1, dropout_p=0.1)\n",
    "\n",
    "if use_cuda:\n",
    "    encoder1 = encoder1.cuda()\n",
    "    attn_decoder1 = attn_decoder1.cuda()\n",
    "\n",
    "\n",
    "\n",
    "# trainIters(encoder1, attn_decoder1, 1, print_every=1)\n",
    "\n",
    "\n",
    "# In[6]:\n",
    "\n",
    "\n",
    "trainIters(encoder1, attn_decoder1,len(articles['desc']), print_every=1000)\n",
    "\n",
    "\n",
    "# In[ ]:\n",
    "\n",
    "\n",
    "evaluateRandomly(encoder1, attn_decoder1)\n"
   ]
  }
 ],
 "metadata": {
  "kernelspec": {
   "display_name": "Python 3",
   "language": "python",
   "name": "python3"
  },
  "language_info": {
   "codemirror_mode": {
    "name": "ipython",
    "version": 3
   },
   "file_extension": ".py",
   "mimetype": "text/x-python",
   "name": "python",
   "nbconvert_exporter": "python",
   "pygments_lexer": "ipython3",
   "version": "3.6.1"
  }
 },
 "nbformat": 4,
 "nbformat_minor": 2
}
