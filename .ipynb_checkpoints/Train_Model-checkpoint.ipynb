{
 "cells": [
  {
   "cell_type": "markdown",
   "metadata": {},
   "source": [
    "## Importing Libraries"
   ]
  },
  {
   "cell_type": "code",
   "execution_count": 13,
   "metadata": {
    "collapsed": true
   },
   "outputs": [],
   "source": [
    "from __future__ import unicode_literals, print_function, division\n",
    "from io import open\n",
    "import unicodedata\n",
    "import string\n",
    "import re\n",
    "import random\n",
    "import numpy as np\n",
    "import _pickle as pickle\n",
    "import gc\n",
    "import torch\n",
    "import torch.nn as nn\n",
    "from torch.autograd import Variable\n",
    "from torch import optim\n",
    "import torch.nn.functional as torch_func"
   ]
  },
  {
   "cell_type": "markdown",
   "metadata": {},
   "source": [
    "## Importing articles and vector dictionary"
   ]
  },
  {
   "cell_type": "code",
   "execution_count": 3,
   "metadata": {
    "collapsed": true
   },
   "outputs": [],
   "source": [
    "with open('final_dump_700k.p', 'rb') as fp:\n",
    "    articles= pickle.load(fp)\n",
    "\n",
    "with open('google_dict_700k.p', 'rb') as fp:\n",
    "    embed= pickle.load(fp)\n"
   ]
  },
  {
   "cell_type": "code",
   "execution_count": 6,
   "metadata": {},
   "outputs": [],
   "source": [
    "wordvec=embed[0]\n",
    "idx2word=embed[1]\n",
    "word2idx=embed[2]"
   ]
  },
  {
   "cell_type": "markdown",
   "metadata": {},
   "source": [
    "## Creating Pairs"
   ]
  },
  {
   "cell_type": "code",
   "execution_count": 7,
   "metadata": {
    "collapsed": true
   },
   "outputs": [],
   "source": [
    "pairs=[]\n",
    "for i in range(len(articles['desc'])):\n",
    "    pairs.append((articles['desc'][i],articles['head'][i]))"
   ]
  },
  {
   "cell_type": "markdown",
   "metadata": {},
   "source": [
    "## Defining Encoder Parameters and Foward Pass"
   ]
  },
  {
   "cell_type": "code",
   "execution_count": 8,
   "metadata": {
    "collapsed": true
   },
   "outputs": [],
   "source": [
    "class encoder(nn.Module):\n",
    "    def __init__(self, input_size, hidden_size, LSTM_layers=4):\n",
    "        super(encoder, self).__init__()\n",
    "        self.LSTM_layers = LSTM_layers\n",
    "        self.hidden_size = hidden_size\n",
    "        self.embedding= nn.Embedding(input_size, hidden_size)\n",
    "        # pretrained_weight is a numpy matrix of shape (num_embeddings, embedding_dim)\n",
    "        self.embedding.weight.data.copy_(torch.from_numpy(wordvec))\n",
    "        self.embedding.weight.requires_grad = False\n",
    "        self.gru = nn.GRU(hidden_size, hidden_size)\n",
    "        \n",
    "    def initHidden(self):\n",
    "        result = Variable(torch.zeros(1, 1, self.hidden_size)).cuda()\n",
    "        return result\n",
    "\n",
    "    def forward(self, input_word, hidden):\n",
    "        output= self.embedding(input_word).view(1,1,-1)\n",
    "        # LSTM execution\n",
    "        for i in range(self.LSTM_layers):\n",
    "            output, hidden = self.gru(output, hidden)\n",
    "        return output, hidden "
   ]
  },
  {
   "cell_type": "markdown",
   "metadata": {},
   "source": [
    "## Defining Decoder Parameters and Foward Pass"
   ]
  },
  {
   "cell_type": "code",
   "execution_count": 68,
   "metadata": {
    "collapsed": true
   },
   "outputs": [],
   "source": [
    "class decoder(nn.Module):\n",
    "    def __init__(self,output_size, hidden_size,LSTM_layers=4):\n",
    "        super(decoder, self).__init__()\n",
    "        self.hidden_size = hidden_size\n",
    "        self.output_size = output_size\n",
    "        self.LSTM_layers = LSTM_layers\n",
    "        self.embedding= nn.Embedding(self.output_size, self.hidden_size)\n",
    "        # pretrained_weight is a numpy matrix of shape (num_embeddings, embedding_dim)\n",
    "        self.embedding.weight.data.copy_(torch.from_numpy(wordvec))\n",
    "        self.embedding.weight.requires_grad = False\n",
    "        # max length of input or output=50\n",
    "        self.local_attn = nn.Linear(self.hidden_size*2, 50)\n",
    "        self.global_attn = nn.Linear(self.hidden_size*2, self.hidden_size)\n",
    "        self.dropout = nn.Dropout(0.1)\n",
    "        self.gru = nn.GRU(self.hidden_size, self.hidden_size)\n",
    "        self.out = nn.Linear(self.hidden_size, self.output_size)\n",
    "    \n",
    "    def initHidden(self):\n",
    "        result = Variable(torch.zeros(1, 1, self.hidden_size)).cuda()\n",
    "        return result\n",
    "\n",
    "    def forward(self, input, hidden, encoder_output, encoder_outputs):\n",
    "        embedded = self.embedding(input).view(1,1,-1)\n",
    "        embedded = self.dropout(embedded)\n",
    "        weights = func_torch.softmax(local_attn(torch.cat((embedded[0], hidden[0]), 1)))\n",
    "        attn = torch.bmm(weights.unsqueeze(0),encoder_outputs.unsqueeze(0))\n",
    "        output = torch.cat((embedded[0], attn[0]), 1)\n",
    "        output = self.global_attn(output).unsqueeze(0)\n",
    "\n",
    "        for i in range(self.LSTM_layers):\n",
    "            # LSTM execution\n",
    "            output = func_torch.relu(output)\n",
    "            output, hidden = self.gru(output, hidden)\n",
    "\n",
    "        output = torch_func.log_softmax(self.out(output[0]))\n",
    "        return output, hidden, weights"
   ]
  },
  {
   "cell_type": "markdown",
   "metadata": {},
   "source": [
    "## Helper functions to create sentence vecs from word vecs"
   ]
  },
  {
   "cell_type": "code",
   "execution_count": 71,
   "metadata": {
    "collapsed": true
   },
   "outputs": [],
   "source": [
    "\n",
    "def sentence_vecs(sentence):\n",
    "    sen=[]\n",
    "    for word in sentence:\n",
    "        if word in word2idx:\n",
    "            sen.append(word2idx[word])\n",
    "        else:\n",
    "            sen.append(word2idx[word.lower()])\n",
    "    return sen        \n",
    "\n",
    "\n",
    "def inputoutput_pair(pair):\n",
    "    desc_indexes = sentence_vecs(pair[0])\n",
    "    desc_indexes.append(1)\n",
    "    desc = Variable(torch.LongTensor(desc_indexes).view(-1, 1)).cuda()\n",
    "    head_indexes = sentence_vecs(pair[1])\n",
    "    head_indexes.append(1)\n",
    "    head = Variable(torch.LongTensor(head_indexes).view(-1, 1)).cuda() \n",
    "    return desc,head"
   ]
  },
  {
   "cell_type": "markdown",
   "metadata": {},
   "source": [
    "## Defining One train step"
   ]
  },
  {
   "cell_type": "code",
   "execution_count": 48,
   "metadata": {
    "collapsed": true
   },
   "outputs": [],
   "source": [
    "def step(desc_senvec, head_senvec, encoder, decoder, encode_optim, decode_optim, loss_criteria):\n",
    "    max_length=50\n",
    "    encoder_hidden = encoder.initHidden()\n",
    "    \n",
    "   \n",
    "    encode_optim.zero_grad()\n",
    "    decode_optim.zero_grad()\n",
    "    \n",
    "    desc_length = desc_senvec.size()[0]\n",
    "    head_length = head_senvec.size()[0]\n",
    "    \n",
    "    \n",
    "    collect_encoder_outputs = Variable(torch.zeros(max_length, encoder.hidden_size)).cuda()\n",
    "    decoder_input = Variable(torch.LongTensor([[0]])).cuda()\n",
    "    \n",
    "\n",
    "    loss = 0\n",
    "    #pass through encoder\n",
    "\n",
    "    for i in range(desc_length):\n",
    "        #previous hidden state to passed to next\n",
    "        encoder_output, encoder_hidden = encoder(desc_senvec[i], encoder_hidden)\n",
    "        collect_encoder_outputs[i] = encoder_output[0][0]\n",
    "\n",
    "    decoder_hidden = encoder_hidden\n",
    "    force_teach_ratio=0.5\n",
    "    force_teach = True if random.random() < force_teach_ratio else False\n",
    "    #pass through decoder \n",
    "    if force_teach:\n",
    "        # Feed imputs from headline itself\n",
    "        for i in range(head_length):\n",
    "            #previous hidden state to passed to next\n",
    "            decoder_output, decoder_hidden, attention = decoder(decoder_input, decoder_hidden, encoder_output, collect_encoder_outputs)\n",
    "            loss += loss_criteria(decoder_output,head_senvec[i])\n",
    "            decoder_input = head_senvec[i]\n",
    "\n",
    "    else:\n",
    "        # use its own prediction\n",
    "        for i in range(head_length):\n",
    "            #previous hidden state to passed to next\n",
    "            decoder_output, decoder_hidden, attention = decoder(decoder_input, decoder_hidden, encoder_output, collect_encoder_outputs)\n",
    "            top, indicies = decoder_output.data.topk(1)\n",
    "            top_word = indicies[0][0]\n",
    "            decoder_input = Variable(torch.LongTensor([[top_word]])).cuda()\n",
    "            loss += loss_criteria(decoder_output,head_senvec[i])\n",
    "            if top_word == 1:\n",
    "                break\n",
    "\n",
    "\n",
    "    loss.backward(retain_graph=False)\n",
    "    encode_optim.step()\n",
    "    decode_optim.step()\n",
    "\n",
    "\n",
    "    return loss.data[0]/head_length\n"
   ]
  },
  {
   "cell_type": "markdown",
   "metadata": {},
   "source": [
    "## Optimization"
   ]
  },
  {
   "cell_type": "code",
   "execution_count": 73,
   "metadata": {
    "collapsed": true
   },
   "outputs": [],
   "source": [
    "\n",
    "def train(encoder, decoder):\n",
    "    collected_loss = 0\n",
    "    \n",
    "    #filtering out variables that do not require grad\n",
    "    encoder_parameters= filter(lambda p: p.requires_grad, encoder.parameters())\n",
    "    decoder_parameters= filter(lambda p: p.requires_grad, decoder.parameters())\n",
    "    encode_optim = optim.SGD(encoder_parameters, lr=0.01)\n",
    "    decode_optim = optim.SGD(decoder_parameters, lr=0.01)\n",
    "    all_training_pairs = [inputoutput_pair(random.choice(pairs))for i in range(9*len(pairs))]\n",
    "    loss_criteria = nn.NLLLoss()\n",
    "    \n",
    "    \n",
    "    for i in range(len(pairs)):\n",
    "        print(i)\n",
    "        training_pair = all_training_pairs[i]\n",
    "        desc_senvec = training_pair[0]\n",
    "        head_senvec = training_pair[1]\n",
    "        loss_data = step(desc_senvec, head_senvec, encoder,decoder, encode_optim, decode_optim, loss_criteria)\n",
    "        collected_loss += loss_data\n",
    "        gc.collect()\n",
    "\n",
    "        if i % 1000 == 0:\n",
    "            #saving model outputs & after every 1000 iterations\n",
    "            print_loss_avg = collected_loss / print_every\n",
    "            collected_loss = 0\n",
    "            torch.save(encoder.state_dict(), 'modelparam_encode.pkl')\n",
    "            torch.save(decoder.state_dict(), 'modelparam_decode.pkl')\n",
    "            boo=predict10(encoder1, decoder1)\n",
    "            filename='output_'+str(i)+'.txt'\n",
    "            thefile = open(filename, 'w',encoding=\"utf-8\")\n",
    "            for item in boo:\n",
    "                thefile.write(\"%s\\n\" %item)\n",
    "            thefile.close()"
   ]
  },
  {
   "cell_type": "markdown",
   "metadata": {},
   "source": [
    "## Predict Fuction"
   ]
  },
  {
   "cell_type": "code",
   "execution_count": 67,
   "metadata": {
    "collapsed": true
   },
   "outputs": [],
   "source": [
    "\n",
    "def predict(encoder, decoder, sentence):\n",
    "    max_length=50\n",
    "    desc_vec = inputoutput_pair(sentence)\n",
    "    desc_length = desc_vec.size()[0]\n",
    "    encoder_hidden = encoder.initHidden()\n",
    "    \n",
    "    collect_encoder_outputs = Variable(torch.zeros(max_length, encoder.hidden_size)).cuda()\n",
    "    decoder_input = Variable(torch.LongTensor([[0]])).cuda()\n",
    "    decoded_sentence = []\n",
    "    \n",
    "    #pass through encoder\n",
    "    for i in range(input_length):\n",
    "        #previous hidden state to passed to next\n",
    "        encoder_output, encoder_hidden = encoder(desc_vec[i],encoder_hidden)\n",
    "        collect_encoder_outputs[i] = collect_encoder_outputs[i] + encoder_output[0][0]\n",
    "        \n",
    "    decoder_hidden = encoder_hidden\n",
    "    #pass through decoder\n",
    "    for i in range(max_length):\n",
    "        #previous hidden state to passed to next\n",
    "        decoder_output, decoder_hidden, attention = decoder(decoder_input, decoder_hidden, encoder_output, collect_encoder_outputs)\n",
    "        decoder_attentions[i] = attention.data\n",
    "        top,indices = decoder_output.data.topk(1)\n",
    "        top_word = indicies[0][0]\n",
    "        if top_word == 1:\n",
    "            decoded_sentence.append(idx2word[top_word])\n",
    "            break\n",
    "        else:\n",
    "            decoded_sentence.append(idx2word[top_word])\n",
    "\n",
    "        decoder_input = Variable(torch.LongTensor([[top_word]])).cuda\n",
    "\n",
    "    return decoded_sentence"
   ]
  },
  {
   "cell_type": "code",
   "execution_count": 72,
   "metadata": {
    "collapsed": true
   },
   "outputs": [],
   "source": [
    "\n",
    "def predict10(encoder, decoder):\n",
    "    lst=[]\n",
    "    string=''\n",
    "    for i in range(10):\n",
    "        pair = random.choice(pairs)\n",
    "        output_words, attentions = predict(encoder, decoder, pair[0])\n",
    "        output_sentence = ' '.join(output_words)\n",
    "        string='desc='+str(pair[0])+'/n'+'head='+str(pair[1])+'/n'+'pred_head='+str(output_sentence)\n",
    "        lst.append(string)\n",
    "    return lst"
   ]
  },
  {
   "cell_type": "markdown",
   "metadata": {},
   "source": [
    "## Making Encoder and Decoder objects"
   ]
  },
  {
   "cell_type": "code",
   "execution_count": 63,
   "metadata": {
    "collapsed": true
   },
   "outputs": [],
   "source": [
    "\n",
    "hidden_size = 300\n",
    "encoder1 = encoder(len(word2idx), hidden_size).cuda()\n",
    "decoder1 = decoder(len(word2idx), hidden_size).cuda()\n"
   ]
  },
  {
   "cell_type": "markdown",
   "metadata": {},
   "source": [
    "## Execution!!!"
   ]
  },
  {
   "cell_type": "code",
   "execution_count": 64,
   "metadata": {
    "collapsed": true
   },
   "outputs": [],
   "source": [
    "train(encoder1,decoder1)"
   ]
  }
 ],
 "metadata": {
  "kernelspec": {
   "display_name": "Python 3",
   "language": "python",
   "name": "python3"
  },
  "language_info": {
   "codemirror_mode": {
    "name": "ipython",
    "version": 3
   },
   "file_extension": ".py",
   "mimetype": "text/x-python",
   "name": "python",
   "nbconvert_exporter": "python",
   "pygments_lexer": "ipython3",
   "version": "3.6.1"
  }
 },
 "nbformat": 4,
 "nbformat_minor": 2
}
